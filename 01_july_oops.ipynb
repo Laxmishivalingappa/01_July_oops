{
 "cells": [
  {
   "cell_type": "code",
   "execution_count": null,
   "id": "a179f5a1",
   "metadata": {},
   "outputs": [],
   "source": [
    "1 What is the primary goal of Object-Oriented Programming (OOP)?\n",
    "ANS- \n",
    "The primary goal of Object-Oriented Programming (OOP) is to provide a way to structure and organize complex software systems by modeling them as a collection of objects that interact with each other. OOP aims to promote code reusability, maintainability, and scalability by organizing code into modular units called objects.\n",
    "\n",
    "The key principles of OOP include encapsulation, inheritance, and polymorphism. Encapsulation allows objects to hide their internal state and provide a controlled interface for interacting with that state. Inheritance enables the creation of new classes based on existing ones, inheriting their properties and behaviors. Polymorphism allows objects of different types to be treated as objects of a common base type, providing flexibility and extensibility.\n",
    "\n",
    "By encapsulating data and behavior within objects, OOP promotes the concept of modular and reusable code. This facilitates easier code maintenance, as changes made to one object do not necessarily affect other parts of the system. OOP also supports the concept of code organization through classes, which serve as blueprints for creating objects with similar characteristics.\n",
    "\n",
    "Overall, the primary goal of OOP is to improve the structure, flexibility, and maintainability of software systems by modeling them as collections of interacting objects, thus making it easier to develop, understand, and modify complex applications."
   ]
  },
  {
   "cell_type": "code",
   "execution_count": null,
   "id": "34fb5026",
   "metadata": {},
   "outputs": [],
   "source": [
    "2 What is an object in Python?\n",
    "Ans-\n",
    "In Python, an object is a fundamental concept of object-oriented programming. It is a specific instance of a class, which serves as a blueprint for creating objects. In simpler terms, an object is a container that holds both data (attributes or properties) and behaviors (methods or functions) related to a particular concept or entity.\n",
    "\n",
    "In Python, objects are created by instantiating a class. The class defines the structure and behavior of the objects that will be created from it. Each object created from the same class has its own unique set of data values for its attributes while sharing the same methods defined in the class."
   ]
  },
  {
   "cell_type": "code",
   "execution_count": 1,
   "id": "3a7816d8",
   "metadata": {},
   "outputs": [
    {
     "name": "stdout",
     "output_type": "stream",
     "text": [
      "Toyota\n",
      "red\n",
      "The blue Toyota car's engine is starting.\n",
      "The red Ford car's engine is starting.\n"
     ]
    }
   ],
   "source": [
    "class Car:\n",
    "    def __init__(self, brand, color):\n",
    "        self.brand = brand\n",
    "        self.color = color\n",
    "\n",
    "    def start_engine(self):\n",
    "        print(f\"The {self.color} {self.brand} car's engine is starting.\")\n",
    "\n",
    "# Creating objects from the Car class\n",
    "car1 = Car(\"Toyota\", \"blue\")\n",
    "car2 = Car(\"Ford\", \"red\")\n",
    "\n",
    "# Accessing attributes and calling methods of the objects\n",
    "print(car1.brand)         \n",
    "print(car2.color)         \n",
    "car1.start_engine()       \n",
    "car2.start_engine()       .\n"
   ]
  },
  {
   "cell_type": "code",
   "execution_count": null,
   "id": "1426bb9f",
   "metadata": {},
   "outputs": [],
   "source": [
    "3 What is a class in Python?\n",
    "ANS-\n",
    "In Python, a class is a blueprint or template for creating objects. It defines a set of attributes (variables) and behaviors (methods) that objects created from the class will possess. Classes provide a way to organize and structure code, encapsulating data and related functions into a single entity.\n",
    "\n",
    "To define a class in Python, you use the class keyword followed by the name of the class. The class definition typically includes a constructor method called __init__() that initializes the object's attributes. Other methods can be defined within the class to provide additional functionality."
   ]
  },
  {
   "cell_type": "code",
   "execution_count": 5,
   "id": "5209afde",
   "metadata": {},
   "outputs": [],
   "source": [
    "class Rectangle:\n",
    "    def __init__(self, width, height):\n",
    "        self.width = width\n",
    "        self.height = height\n",
    "\n",
    "    def area(self):\n",
    "        return self.width * self.height\n",
    "\n",
    "    def perimeter(self):\n",
    "        return 2 * (self.width + self.height)\n"
   ]
  },
  {
   "cell_type": "code",
   "execution_count": 6,
   "id": "5df79afd",
   "metadata": {},
   "outputs": [
    {
     "name": "stdout",
     "output_type": "stream",
     "text": [
      "5\n",
      "15\n",
      "16\n"
     ]
    }
   ],
   "source": [
    "rect1 = Rectangle(5, 3)\n",
    "print(rect1.width)         \n",
    "print(rect1.area())        \n",
    "print(rect1.perimeter())   \n"
   ]
  },
  {
   "cell_type": "code",
   "execution_count": null,
   "id": "230e58fc",
   "metadata": {},
   "outputs": [],
   "source": [
    "4 What are attributes and methods in a class?\n",
    "ANS-\n",
    "In a class, attributes and methods are the building blocks that define the characteristics and behavior of objects created from that class. Let's explore each of these concepts:\n",
    "\n",
    "Attributes:\n",
    "Attributes, also known as instance variables or properties, are the data associated with an object. They represent the state or characteristics of an object. Attributes store values that describe the object's properties. These values can be accessed and modified by the object's methods.\n",
    "In Python, attributes are defined within the class and are accessed using the self keyword within methods. Each object created from the class has its own set of attribute values.\n",
    "\n",
    "Methods:\n",
    "Methods are functions defined within a class that define the behavior of the objects created from that class. They represent the actions or operations that an object can perform. Methods can manipulate the object's attributes, perform calculations, interact with other objects, and more.\n",
    "Methods are defined within the class and can access the object's attributes and other methods using the self parameter. They are typically called on specific objects using dot notation."
   ]
  },
  {
   "cell_type": "code",
   "execution_count": null,
   "id": "e18e708e",
   "metadata": {},
   "outputs": [],
   "source": [
    "class Circle:\n",
    "    def __init__(self, radius):\n",
    "        self.radius = radius\n",
    "\n",
    "    def area(self):\n",
    "        return 3.14 * self.radius * self.radius\n",
    "\n",
    "    def circumference(self):\n",
    "        return 2 * 3.14 * self.radius\n"
   ]
  },
  {
   "cell_type": "code",
   "execution_count": null,
   "id": "6728b3ac",
   "metadata": {},
   "outputs": [],
   "source": [
    "5 What is the difference between class variables and instance variables in Python?\n",
    "ANS- \n",
    "In Python, class variables and instance variables are two types of variables used in classes, but they have different scopes and behaviors. Let's explore the differences between these two types:\n",
    "\n",
    "Class Variables:\n",
    "Class variables are variables that are shared among all instances (objects) of a class. They are defined within the class but outside of any methods.\n",
    "Class variables are associated with the class itself rather than individual instances. Any modification to a class variable affects all instances of the class.\n",
    "Class variables are typically used to store data that is common to all instances of the class, such as configuration settings, constants, or shared counters.\n",
    "Class variables are accessed using the class name itself or through any instance of the class.\n",
    "Instance Variables:\n",
    "Instance variables are variables that are unique to each instance (object) of a class. They are defined within the methods of a class, particularly in the __init__() method, which is the constructor.\n",
    "Instance variables represent the state or characteristics of individual objects. Each instance has its own set of instance variables, which can have different values.\n",
    "Instance variables are used to store data that is specific to each object, such as different names, IDs, or states.\n",
    "Instance variables are accessed and modified using the self keyword within the methods of the class.\n"
   ]
  },
  {
   "cell_type": "code",
   "execution_count": 10,
   "id": "8e2d0142",
   "metadata": {},
   "outputs": [
    {
     "name": "stdout",
     "output_type": "stream",
     "text": [
      "This is a class variable.\n",
      "Alice\n",
      "Bob\n",
      "This is a class variable.\n",
      "Modified class variable\n",
      "This is a class variable.\n"
     ]
    }
   ],
   "source": [
    "class Person:\n",
    "    class_variable = \"This is a class variable.\"\n",
    "\n",
    "    def __init__(self, name):\n",
    "        self.name = name  # instance variable\n",
    "\n",
    "person1 = Person(\"Alice\")\n",
    "person2 = Person(\"Bob\")\n",
    "\n",
    "print(Person.class_variable)  \n",
    "print(person1.name)           \n",
    "print(person2.name)           \n",
    "\n",
    "person1.class_variable = \"Modified class variable\"\n",
    "print(Person.class_variable)  \n",
    "print(person1.class_variable)\n",
    "print(person2.class_variable) \n"
   ]
  },
  {
   "cell_type": "code",
   "execution_count": null,
   "id": "aeea6ed5",
   "metadata": {},
   "outputs": [],
   "source": [
    "6 What is the purpose of the self parameter in Python class methods?\n",
    "ANS- In Python class methods, the self parameter represents the instance (object) on which the method is being called. It is a convention in Python to use the name self, although any valid variable name can be used. The self parameter allows methods to access and manipulate the attributes and other methods of the object.\n",
    "\n",
    "The purpose of the self parameter can be summarized as follows:\n",
    "\n",
    "Accessing Instance Variables:\n",
    "\n",
    "Within a method, the self parameter provides access to the instance variables (attributes) of the object.\n",
    "By using self.attribute_name, you can read or modify the values of the object's attributes within the method.\n",
    "Calling Other Methods:\n",
    "\n",
    "The self parameter enables calling other methods of the object within a method.\n",
    "By using self.method_name(), you can invoke other methods defined in the class, allowing you to perform complex operations and utilize the object's behavior.\n",
    "Referencing the Instance:\n",
    "\n",
    "The self parameter allows you to refer to the instance (object) itself within the method.\n",
    "It allows you to distinguish between the attributes of the current object and attributes with the same name defined at the class level (class variables)."
   ]
  },
  {
   "cell_type": "code",
   "execution_count": 12,
   "id": "3b10a1dd",
   "metadata": {},
   "outputs": [
    {
     "name": "stdout",
     "output_type": "stream",
     "text": [
      "Hello, my name is Alice.\n",
      "Hello, my name is Bob.\n",
      "Hello Bob, my name is Alice. Nice to meet you!\n",
      "Hello Alice, my name is Bob. Nice to meet you!\n"
     ]
    }
   ],
   "source": [
    "class Person:\n",
    "    def __init__(self, name):\n",
    "        self.name = name\n",
    "\n",
    "    def say_hello(self):\n",
    "        print(f\"Hello, my name is {self.name}.\")\n",
    "\n",
    "    def greet(self, other_person):\n",
    "        print(f\"Hello {other_person.name}, my name is {self.name}. Nice to meet you!\")\n",
    "\n",
    "# Creating two Person objects\n",
    "person1 = Person(\"Alice\")\n",
    "person2 = Person(\"Bob\")\n",
    "\n",
    "person1.say_hello()          \n",
    "\n",
    "person1.greet(person2)        \n",
    "person2.greet(person1)       \n"
   ]
  },
  {
   "cell_type": "code",
   "execution_count": null,
   "id": "40fd266c",
   "metadata": {},
   "outputs": [],
   "source": [
    "7 For a library management system, you have to design the \"Book\" class with OOP\n",
    "principles in mind. The “Book” class will have following attributes:\n",
    "a. title: Represents the title of the book.\n",
    "b. author: Represents the author(s) of the book.\n",
    "c. isbn: Represents the ISBN (International Standard Book Number) of the book.\n",
    "d. publication_year: Represents the year of publication of the book.\n",
    "e. available_copies: Represents the number of copies available for checkout.\n",
    "The class will also include the following methods:\n",
    "a. check_out(self): Decrements the available copies by one if there are copies\n",
    "available for checkout.\n",
    "b. return_book(self): Increments the available copies by one when a book is\n",
    "returned.\n",
    "c. display_book_info(self): Displays the information about the book, including its\n",
    "attributes and the number of available copies.\n",
    "ANS- \n"
   ]
  },
  {
   "cell_type": "code",
   "execution_count": 14,
   "id": "d8c4e177",
   "metadata": {},
   "outputs": [
    {
     "name": "stdout",
     "output_type": "stream",
     "text": [
      "Book Information:\n",
      "Title: Python Crash Course\n",
      "Author(s): Eric Matthes\n",
      "ISBN: 9781593279288\n",
      "Publication Year: 2019\n",
      "Available Copies: 5\n",
      "Book 'Python Crash Course' checked out successfully.\n",
      "Book Information:\n",
      "Title: Python Crash Course\n",
      "Author(s): Eric Matthes\n",
      "ISBN: 9781593279288\n",
      "Publication Year: 2019\n",
      "Available Copies: 4\n",
      "Book 'Python Crash Course' returned successfully.\n",
      "Book Information:\n",
      "Title: Python Crash Course\n",
      "Author(s): Eric Matthes\n",
      "ISBN: 9781593279288\n",
      "Publication Year: 2019\n",
      "Available Copies: 5\n"
     ]
    }
   ],
   "source": [
    "class Book:\n",
    "    def __init__(self, title, author, isbn, publication_year, available_copies):\n",
    "        self.title = title\n",
    "        self.author = author\n",
    "        self.isbn = isbn\n",
    "        self.publication_year = publication_year\n",
    "        self.available_copies = available_copies\n",
    "\n",
    "    def check_out(self):\n",
    "        if self.available_copies > 0:\n",
    "            self.available_copies -= 1\n",
    "            print(f\"Book '{self.title}' checked out successfully.\")\n",
    "        else:\n",
    "            print(f\"Sorry, book '{self.title}' is currently not available for checkout.\")\n",
    "\n",
    "    def return_book(self):\n",
    "        self.available_copies += 1\n",
    "        print(f\"Book '{self.title}' returned successfully.\")\n",
    "\n",
    "    def display_book_info(self):\n",
    "        print(\"Book Information:\")\n",
    "        print(f\"Title: {self.title}\")\n",
    "        print(f\"Author(s): {self.author}\")\n",
    "        print(f\"ISBN: {self.isbn}\")\n",
    "        print(f\"Publication Year: {self.publication_year}\")\n",
    "        print(f\"Available Copies: {self.available_copies}\")\n",
    "\n",
    "\n",
    "# Creating a Book object\n",
    "book1 = Book(\"Python Crash Course\", \"Eric Matthes\", \"9781593279288\", 2019, 5)\n",
    "\n",
    "# Demonstration of methods\n",
    "book1.display_book_info()     \n",
    "book1.check_out()             \n",
    "book1.display_book_info()     \n",
    "book1.return_book()           \n",
    "book1.display_book_info()     \n"
   ]
  },
  {
   "cell_type": "code",
   "execution_count": null,
   "id": "51dd585d",
   "metadata": {},
   "outputs": [],
   "source": [
    "8 For a ticket booking system, you have to design the \"Ticket\" class with OOP\n",
    "principles in mind. The “Ticket” class should have the following attributes:\n",
    "a. ticket_id: Represents the unique identifier for the ticket.\n",
    "b. event_name: Represents the name of the event.\n",
    "c. event_date: Represents the date of the event.\n",
    "d. venue: Represents the venue of the event.\n",
    "e. seat_number: Represents the seat number associated with the ticket.\n",
    "f. price: Represents the price of the ticket.\n",
    "g. is_reserved: Represents the reservation status of the ticket.\n",
    "The class also includes the following methods:\n",
    "a. reserve_ticket(self): Marks the ticket as reserved if it is not already reserved.\n",
    "b. cancel_reservation(self): Cancels the reservation of the ticket if it is already\n",
    "reserved.\n",
    "c. display_ticket_info(self): Displays the information about the ticket, including its\n",
    "attributes and reservation status.\n",
    "ANS-\n"
   ]
  },
  {
   "cell_type": "code",
   "execution_count": 15,
   "id": "614c7687",
   "metadata": {},
   "outputs": [
    {
     "name": "stdout",
     "output_type": "stream",
     "text": [
      "Ticket Information:\n",
      "Ticket ID: T12345\n",
      "Event Name: Concert\n",
      "Event Date: 2023-07-15\n",
      "Venue: Stadium\n",
      "Seat Number: A1\n",
      "Price: 50.0\n",
      "Reservation Status: Not Reserved\n",
      "Ticket T12345 reserved successfully.\n",
      "Ticket Information:\n",
      "Ticket ID: T12345\n",
      "Event Name: Concert\n",
      "Event Date: 2023-07-15\n",
      "Venue: Stadium\n",
      "Seat Number: A1\n",
      "Price: 50.0\n",
      "Reservation Status: Reserved\n",
      "Reservation of ticket T12345 cancelled successfully.\n",
      "Ticket Information:\n",
      "Ticket ID: T12345\n",
      "Event Name: Concert\n",
      "Event Date: 2023-07-15\n",
      "Venue: Stadium\n",
      "Seat Number: A1\n",
      "Price: 50.0\n",
      "Reservation Status: Not Reserved\n"
     ]
    }
   ],
   "source": [
    "class Ticket:\n",
    "    def __init__(self, ticket_id, event_name, event_date, venue, seat_number, price):\n",
    "        self.ticket_id = ticket_id\n",
    "        self.event_name = event_name\n",
    "        self.event_date = event_date\n",
    "        self.venue = venue\n",
    "        self.seat_number = seat_number\n",
    "        self.price = price\n",
    "        self.is_reserved = False\n",
    "\n",
    "    def reserve_ticket(self):\n",
    "        if not self.is_reserved:\n",
    "            self.is_reserved = True\n",
    "            print(f\"Ticket {self.ticket_id} reserved successfully.\")\n",
    "        else:\n",
    "            print(f\"Ticket {self.ticket_id} is already reserved.\")\n",
    "\n",
    "    def cancel_reservation(self):\n",
    "        if self.is_reserved:\n",
    "            self.is_reserved = False\n",
    "            print(f\"Reservation of ticket {self.ticket_id} cancelled successfully.\")\n",
    "        else:\n",
    "            print(f\"Ticket {self.ticket_id} is not currently reserved.\")\n",
    "\n",
    "    def display_ticket_info(self):\n",
    "        print(\"Ticket Information:\")\n",
    "        print(f\"Ticket ID: {self.ticket_id}\")\n",
    "        print(f\"Event Name: {self.event_name}\")\n",
    "        print(f\"Event Date: {self.event_date}\")\n",
    "        print(f\"Venue: {self.venue}\")\n",
    "        print(f\"Seat Number: {self.seat_number}\")\n",
    "        print(f\"Price: {self.price}\")\n",
    "        reservation_status = \"Reserved\" if self.is_reserved else \"Not Reserved\"\n",
    "        print(f\"Reservation Status: {reservation_status}\")\n",
    "\n",
    "\n",
    "# Creating a Ticket object\n",
    "ticket1 = Ticket(\"T12345\", \"Concert\", \"2023-07-15\", \"Stadium\", \"A1\", 50.0)\n",
    "\n",
    "# Demonstration of methods\n",
    "ticket1.display_ticket_info()       \n",
    "ticket1.reserve_ticket()            \n",
    "ticket1.display_ticket_info()       \n",
    "ticket1.cancel_reservation()        \n",
    "ticket1.display_ticket_info()       \n"
   ]
  },
  {
   "cell_type": "code",
   "execution_count": null,
   "id": "41b78642",
   "metadata": {},
   "outputs": [],
   "source": [
    "9 You are creating a shopping cart for an e-commerce website. Using OOP to model\n",
    "the \"ShoppingCart\" functionality the class should contain following attributes and\n",
    "methods:\n",
    "a. items: Represents the list of items in the shopping cart.\n",
    "The class also includes the following methods:\n",
    "\n",
    "a. add_item(self, item): Adds an item to the shopping cart by appending it to the\n",
    "list of items.\n",
    "b. remove_item(self, item): Removes an item from the shopping cart if it exists in\n",
    "the list.\n",
    "c. view_cart(self): Displays the items currently present in the shopping cart.\n",
    "d. clear_cart(self): Clears all items from the shopping cart by reassigning an\n",
    "empty list to the items attribute."
   ]
  },
  {
   "cell_type": "code",
   "execution_count": 16,
   "id": "9deff915",
   "metadata": {},
   "outputs": [
    {
     "name": "stdout",
     "output_type": "stream",
     "text": [
      "Items in the shopping cart:\n",
      "The shopping cart is empty.\n",
      "Item 'Product 1' added to the shopping cart.\n",
      "Item 'Product 2' added to the shopping cart.\n",
      "Items in the shopping cart:\n",
      "Product 1\n",
      "Product 2\n",
      "Item 'Product 1' removed from the shopping cart.\n",
      "Items in the shopping cart:\n",
      "Product 2\n",
      "The shopping cart has been cleared.\n",
      "Items in the shopping cart:\n",
      "The shopping cart is empty.\n"
     ]
    }
   ],
   "source": [
    "class ShoppingCart:\n",
    "    def __init__(self):\n",
    "        self.items = []\n",
    "\n",
    "    def add_item(self, item):\n",
    "        self.items.append(item)\n",
    "        print(f\"Item '{item}' added to the shopping cart.\")\n",
    "\n",
    "    def remove_item(self, item):\n",
    "        if item in self.items:\n",
    "            self.items.remove(item)\n",
    "            print(f\"Item '{item}' removed from the shopping cart.\")\n",
    "        else:\n",
    "            print(f\"Item '{item}' is not in the shopping cart.\")\n",
    "\n",
    "    def view_cart(self):\n",
    "        print(\"Items in the shopping cart:\")\n",
    "        if self.items:\n",
    "            for item in self.items:\n",
    "                print(item)\n",
    "        else:\n",
    "            print(\"The shopping cart is empty.\")\n",
    "\n",
    "    def clear_cart(self):\n",
    "        self.items = []\n",
    "        print(\"The shopping cart has been cleared.\")\n",
    "\n",
    "\n",
    "# Creating a ShoppingCart object\n",
    "cart = ShoppingCart()\n",
    "\n",
    "# Demonstration of methods\n",
    "cart.view_cart()               # View the initial empty cart\n",
    "cart.add_item(\"Product 1\")     # Add an item to the cart\n",
    "cart.add_item(\"Product 2\")     # Add another item to the cart\n",
    "cart.view_cart()               # View the updated cart\n",
    "cart.remove_item(\"Product 1\")  # Remove an item from the cart\n",
    "cart.view_cart()               # View the updated cart\n",
    "cart.clear_cart()              # Clear the cart\n",
    "cart.view_cart()               # View the emptied cart\n"
   ]
  },
  {
   "cell_type": "code",
   "execution_count": null,
   "id": "186d212e",
   "metadata": {},
   "outputs": [],
   "source": [
    "10. Imagine a school management system. You have to design the \"Student\" class using\n",
    "OOP concepts.The “Student” class has the following attributes:\n",
    "a. name: Represents the name of the student.\n",
    "b. age: Represents the age of the student.\n",
    "c. grade: Represents the grade or class of the student.\n",
    "d. student_id: Represents the unique identifier for the student.\n",
    "e. attendance: Represents the attendance record of the student.\n",
    "The class should also include the following methods:\n",
    "a. update_attendance(self, date, status): Updates the attendance record of the\n",
    "student for a given date with the provided status (e.g., present or absent).\n",
    "b. get_attendance(self): Returns the attendance record of the student.\n",
    "c. get_average_attendance(self): Calculates and returns the average\n",
    "attendance percentage of the student based on their attendance record."
   ]
  },
  {
   "cell_type": "code",
   "execution_count": 17,
   "id": "26d079e7",
   "metadata": {},
   "outputs": [
    {
     "name": "stdout",
     "output_type": "stream",
     "text": [
      "Attendance record updated for John Doe on 2023-07-01. Status: present\n",
      "Attendance record updated for John Doe on 2023-07-02. Status: absent\n",
      "{'2023-07-01': 'present', '2023-07-02': 'absent'}\n",
      "Average attendance percentage for John Doe: 50.0%\n"
     ]
    }
   ],
   "source": [
    "class Student:\n",
    "    def __init__(self, name, age, grade, student_id):\n",
    "        self.name = name\n",
    "        self.age = age\n",
    "        self.grade = grade\n",
    "        self.student_id = student_id\n",
    "        self.attendance = {}\n",
    "\n",
    "    def update_attendance(self, date, status):\n",
    "        self.attendance[date] = status\n",
    "        print(f\"Attendance record updated for {self.name} on {date}. Status: {status}\")\n",
    "\n",
    "    def get_attendance(self):\n",
    "        return self.attendance\n",
    "\n",
    "    def get_average_attendance(self):\n",
    "        total_days = len(self.attendance)\n",
    "        if total_days == 0:\n",
    "            return 0.0\n",
    "        present_days = sum(value == \"present\" for value in self.attendance.values())\n",
    "        attendance_percentage = (present_days / total_days) * 100\n",
    "        return attendance_percentage\n",
    "\n",
    "\n",
    "# Creating a Student object\n",
    "student1 = Student(\"John Doe\", 15, \"10th Grade\", \"S12345\")\n",
    "\n",
    "# Demonstration of methods\n",
    "student1.update_attendance(\"2023-07-01\", \"present\")   # Update attendance for a date\n",
    "student1.update_attendance(\"2023-07-02\", \"absent\")    # Update attendance for another date\n",
    "attendance_record = student1.get_attendance()         # Get the attendance record\n",
    "print(attendance_record)\n",
    "\n",
    "average_attendance = student1.get_average_attendance()    # Get the average attendance percentage\n",
    "print(f\"Average attendance percentage for {student1.name}: {average_attendance}%\")\n"
   ]
  },
  {
   "cell_type": "code",
   "execution_count": null,
   "id": "ea3176f9",
   "metadata": {},
   "outputs": [],
   "source": []
  }
 ],
 "metadata": {
  "kernelspec": {
   "display_name": "Python 3 (ipykernel)",
   "language": "python",
   "name": "python3"
  },
  "language_info": {
   "codemirror_mode": {
    "name": "ipython",
    "version": 3
   },
   "file_extension": ".py",
   "mimetype": "text/x-python",
   "name": "python",
   "nbconvert_exporter": "python",
   "pygments_lexer": "ipython3",
   "version": "3.10.9"
  }
 },
 "nbformat": 4,
 "nbformat_minor": 5
}
